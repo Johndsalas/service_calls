{
 "cells": [
  {
   "cell_type": "code",
   "execution_count": 1,
   "id": "republican-reflection",
   "metadata": {},
   "outputs": [],
   "source": [
    "import pandas as pd"
   ]
  },
  {
   "cell_type": "code",
   "execution_count": null,
   "id": "corresponding-hungary",
   "metadata": {
    "scrolled": false
   },
   "outputs": [
    {
     "name": "stdout",
     "output_type": "stream",
     "text": [
      "after dropping nulls 557794\n"
     ]
    }
   ],
   "source": [
    "\n",
    "# 587273 rows\n",
    "df = pd.read_csv('allservicecalls.csv')\n",
    "\n",
    "\n",
    "df = df[['Category',\n",
    "         'OPENEDDATETIME',\n",
    "         'CLOSEDDATETIME',\n",
    "         'SLA_Date', \n",
    "         'Late (Yes/No)', \n",
    "         'Dept', \n",
    "         'REASONNAME', \n",
    "         'TYPENAME', \n",
    "         'CaseStatus', \n",
    "         'SourceID', \n",
    "         'OBJECTDESC', \n",
    "         'Council District']]\n",
    "\n",
    "\n",
    "df = df.rename(columns = {'Category' : 'catagory',\n",
    "                          'OPENEDDATETIME' : 'open_date',\n",
    "                          'CLOSEDDATETIME' : 'close_date',\n",
    "                          'SLA_Date' : 'sla_date', \n",
    "                          'Late (Yes/No)' : 'late', \n",
    "                          'Dept' : 'dept',\n",
    "                          'REASONNAME' : 'dept_div', \n",
    "                          'TYPENAME' : 'type', \n",
    "                          'CaseStatus' : 'active', \n",
    "                          'SourceID' : 'source', \n",
    "                          'OBJECTDESC' : 'location', \n",
    "                          'Council District' : 'district'})\n",
    "\n",
    "df = df.dropna()\n",
    "\n",
    "null_df = len(df)\n",
    "\n",
    "print('after dropping nulls', null_df)\n",
    "\n",
    "df = df[df.active == 'Closed']\n",
    "df = df.drop(columns = 'active')\n",
    "\n",
    "\n",
    "df['open_date'] = pd.to_datetime(df['open_date'])\n",
    "df['close_date'] = pd.to_datetime(df['close_date'])\n",
    "df['sla_date'] = pd.to_datetime(df['sla_date'])\n",
    "\n",
    "\n",
    "df['days_to_close'] = df['close_date'] - df['open_date'] \n",
    "df['sla_target_days'] = df['sla_date'] - df['open_date']\n",
    "\n",
    "\n",
    "df['days_to_close'] = df['days_to_close'].dt.days\n",
    "df['sla_target_days'] = df['sla_target_days'].dt.days\n",
    "\n",
    "\n",
    "df['days_to_close'] = df['days_to_close'].astype(int)\n",
    "df['sla_target_days'] = df['sla_target_days'].astype(int)\n",
    "\n",
    "\n",
    "df['days_till_target'] = df['sla_target_days'] - df['days_to_close']\n",
    "\n",
    "df.to_csv('service_calls_prepared.csv', index = False)"
   ]
  },
  {
   "cell_type": "code",
   "execution_count": null,
   "id": "hundred-recommendation",
   "metadata": {},
   "outputs": [],
   "source": []
  }
 ],
 "metadata": {
  "kernelspec": {
   "display_name": "Python 3",
   "language": "python",
   "name": "python3"
  },
  "language_info": {
   "codemirror_mode": {
    "name": "ipython",
    "version": 3
   },
   "file_extension": ".py",
   "mimetype": "text/x-python",
   "name": "python",
   "nbconvert_exporter": "python",
   "pygments_lexer": "ipython3",
   "version": "3.7.4"
  }
 },
 "nbformat": 4,
 "nbformat_minor": 5
}
